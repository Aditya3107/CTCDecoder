{
  "nbformat": 4,
  "nbformat_minor": 0,
  "metadata": {
    "colab": {
      "name": "Untitled5.ipynb",
      "provenance": [],
      "authorship_tag": "ABX9TyNQyJJ2uW0GgNECuIMN5Tq/",
      "include_colab_link": true
    },
    "kernelspec": {
      "name": "python3",
      "display_name": "Python 3"
    }
  },
  "cells": [
    {
      "cell_type": "markdown",
      "metadata": {
        "id": "view-in-github",
        "colab_type": "text"
      },
      "source": [
        "<a href=\"https://colab.research.google.com/github/Aditya3107/CTCDecoder/blob/master/Wordprediction_model.ipynb\" target=\"_parent\"><img src=\"https://colab.research.google.com/assets/colab-badge.svg\" alt=\"Open In Colab\"/></a>"
      ]
    },
    {
      "cell_type": "code",
      "metadata": {
        "id": "MXDggJ3ZWYf4",
        "colab_type": "code",
        "outputId": "dcfb9b5d-6667-4959-a772-6ac88721ba1f",
        "colab": {
          "base_uri": "https://localhost:8080/",
          "height": 68
        }
      },
      "source": [
        "import nltk,re,pprint,collections\n",
        "from nltk import word_tokenize\n",
        "from urllib import request\n",
        "from nltk.util import ngrams\n",
        "from collections import Counter,defaultdict\n",
        "nltk.download('punkt')\n",
        "import spacy\n",
        "import numpy as np\n",
        "import pandas as pd\n",
        "from collections import Counter, defaultdict\n",
        "from itertools import tee\n",
        "#This is a text corpora which can we use for testing purpose\n",
        "#url = \"http://www.gutenberg.org/files/2554/2554-0.txt\"\n",
        "#response = request.urlopen(url)\n",
        "#raw = response.read().decode('utf8')\n",
        "#wordlist = re.sub(\"[^\\w]\", \" \",  raw).split()\n",
        "\n",
        "\n",
        "inputstring = \"I am Sam. Sam I am. I do not like green eggs.\"\n",
        "normalizedstring = inputstring.lower()\n",
        "#a = re.sub(r'[?|$|.|!|\\n|\\r|\\]',r'',normalizedstring).split()\n",
        "#print(a)\n",
        "#dictionary = ['a','b','c','d','e','f','g','h','i','j','k','l','m','n','o','p','q','r','s','t','u','v','w','x','y','z',' ',\"'\"]\n",
        "inputwordlist = re.sub(\"[^\\w]\", \" \",  normalizedstring).split()\n",
        "nlp = spacy.load('en_core_web_sm', disable=['parser', 'tagger', 'ner'])\n",
        "inputwordlist"
      ],
      "execution_count": 2,
      "outputs": [
        {
          "output_type": "stream",
          "text": [
            "[nltk_data] Downloading package punkt to /root/nltk_data...\n",
            "[nltk_data]   Unzipping tokenizers/punkt.zip.\n"
          ],
          "name": "stdout"
        },
        {
          "output_type": "execute_result",
          "data": {
            "text/plain": [
              "['i', 'am', 'sam', 'sam', 'i', 'am', 'i', 'do', 'not', 'like', 'green', 'eggs']"
            ]
          },
          "metadata": {
            "tags": []
          },
          "execution_count": 2
        }
      ]
    },
    {
      "cell_type": "code",
      "metadata": {
        "id": "r8zwsn0pRtQY",
        "colab_type": "code",
        "colab": {}
      },
      "source": [
        "def get_bigrams(inputwordlist):\n",
        "  bigrams = []\n",
        "  for i in range(len(inputwordlist)-(2-1)):\n",
        "    bigrams.append(inputwordlist[i:i+2])\n",
        "  return bigrams"
      ],
      "execution_count": 0,
      "outputs": []
    },
    {
      "cell_type": "code",
      "metadata": {
        "id": "9kCm_cIFR7Ey",
        "colab_type": "code",
        "outputId": "b140985d-006a-46ba-ba72-a0b95f42e907",
        "colab": {
          "base_uri": "https://localhost:8080/",
          "height": 204
        }
      },
      "source": [
        "get_bigrams(inputwordlist)"
      ],
      "execution_count": 4,
      "outputs": [
        {
          "output_type": "execute_result",
          "data": {
            "text/plain": [
              "[['i', 'am'],\n",
              " ['am', 'sam'],\n",
              " ['sam', 'sam'],\n",
              " ['sam', 'i'],\n",
              " ['i', 'am'],\n",
              " ['am', 'i'],\n",
              " ['i', 'do'],\n",
              " ['do', 'not'],\n",
              " ['not', 'like'],\n",
              " ['like', 'green'],\n",
              " ['green', 'eggs']]"
            ]
          },
          "metadata": {
            "tags": []
          },
          "execution_count": 4
        }
      ]
    },
    {
      "cell_type": "code",
      "metadata": {
        "id": "EPhm8hwdSSl0",
        "colab_type": "code",
        "colab": {}
      },
      "source": [
        "import csv\n",
        "with open('bigram_probability.csv','w',newline = '') as f:\n",
        "    thewriter = csv.writer(f)\n",
        "    for bigrams in get_bigrams(inputwordlist):\n",
        "        probability_bigram = get_bigrams(inputwordlist).count(bigrams) / inputwordlist.count(bigrams[0])\n",
        "        #print(bigrams,probability_bigram)\n",
        "        thewriter.writerow([bigrams,probability_bigram])"
      ],
      "execution_count": 0,
      "outputs": []
    },
    {
      "cell_type": "code",
      "metadata": {
        "id": "5DvEbMekWoLt",
        "colab_type": "code",
        "colab": {}
      },
      "source": [
        "tokenized = nlp.tokenizer.pipe(a)\n",
        "tokenized = [t.text for doc in tokenized for t in doc]"
      ],
      "execution_count": 0,
      "outputs": []
    },
    {
      "cell_type": "code",
      "metadata": {
        "id": "v-w_YI1IaTaw",
        "colab_type": "code",
        "outputId": "a1bf7e2d-0ef0-4fdc-8ecb-24acff7c2af0",
        "colab": {
          "base_uri": "https://localhost:8080/",
          "height": 34
        }
      },
      "source": [
        "tokenized"
      ],
      "execution_count": 0,
      "outputs": [
        {
          "output_type": "execute_result",
          "data": {
            "text/plain": [
              "['i', 'am', 'sam', 'sam', 'i', 'am', 'i', 'do', \"n't\", 'like', 'green', 'eggs']"
            ]
          },
          "metadata": {
            "tags": []
          },
          "execution_count": 17
        }
      ]
    },
    {
      "cell_type": "code",
      "metadata": {
        "id": "UupM7ERLXfOx",
        "colab_type": "code",
        "colab": {}
      },
      "source": [
        "from collections import Counter, defaultdict\n",
        "from itertools import tee"
      ],
      "execution_count": 0,
      "outputs": []
    },
    {
      "cell_type": "code",
      "metadata": {
        "id": "3AQFjmhna1HR",
        "colab_type": "code",
        "outputId": "f797d9b5-29ed-4880-bc8e-98d4f1f1826a",
        "colab": {
          "base_uri": "https://localhost:8080/",
          "height": 215
        }
      },
      "source": [
        "Bigrams = ngrams(a,2)\n",
        "BigramFreq = collections.Counter(Bigrams)\n",
        "bigram_prob = BigramFreq / BigramFreq.Count(Bigrams[0])\n",
        "bigram_prob"
      ],
      "execution_count": 0,
      "outputs": [
        {
          "output_type": "error",
          "ename": "AttributeError",
          "evalue": "ignored",
          "traceback": [
            "\u001b[0;31m---------------------------------------------------------------------------\u001b[0m",
            "\u001b[0;31mAttributeError\u001b[0m                            Traceback (most recent call last)",
            "\u001b[0;32m<ipython-input-62-09a09210c5c2>\u001b[0m in \u001b[0;36m<module>\u001b[0;34m()\u001b[0m\n\u001b[1;32m      1\u001b[0m \u001b[0mBigrams\u001b[0m \u001b[0;34m=\u001b[0m \u001b[0mngrams\u001b[0m\u001b[0;34m(\u001b[0m\u001b[0ma\u001b[0m\u001b[0;34m,\u001b[0m\u001b[0;36m2\u001b[0m\u001b[0;34m)\u001b[0m\u001b[0;34m\u001b[0m\u001b[0;34m\u001b[0m\u001b[0m\n\u001b[1;32m      2\u001b[0m \u001b[0mBigramFreq\u001b[0m \u001b[0;34m=\u001b[0m \u001b[0mcollections\u001b[0m\u001b[0;34m.\u001b[0m\u001b[0mCounter\u001b[0m\u001b[0;34m(\u001b[0m\u001b[0mBigrams\u001b[0m\u001b[0;34m)\u001b[0m\u001b[0;34m\u001b[0m\u001b[0;34m\u001b[0m\u001b[0m\n\u001b[0;32m----> 3\u001b[0;31m \u001b[0mbigram_prob\u001b[0m \u001b[0;34m=\u001b[0m \u001b[0mBigramFreq\u001b[0m \u001b[0;34m/\u001b[0m \u001b[0mBigramFreq\u001b[0m\u001b[0;34m.\u001b[0m\u001b[0mCount\u001b[0m\u001b[0;34m(\u001b[0m\u001b[0mBigrams\u001b[0m\u001b[0;34m[\u001b[0m\u001b[0;36m0\u001b[0m\u001b[0;34m]\u001b[0m\u001b[0;34m)\u001b[0m\u001b[0;34m\u001b[0m\u001b[0;34m\u001b[0m\u001b[0m\n\u001b[0m\u001b[1;32m      4\u001b[0m \u001b[0mbigram_prob\u001b[0m\u001b[0;34m\u001b[0m\u001b[0;34m\u001b[0m\u001b[0m\n",
            "\u001b[0;31mAttributeError\u001b[0m: 'Counter' object has no attribute 'Count'"
          ]
        }
      ]
    },
    {
      "cell_type": "code",
      "metadata": {
        "id": "R9IOg6NPXjvz",
        "colab_type": "code",
        "colab": {}
      },
      "source": [
        "def make_bigrams(iterator):\n",
        "    a, b = tee(iterator,2)\n",
        "    next(b)\n",
        "    return zip(a,b)"
      ],
      "execution_count": 0,
      "outputs": []
    },
    {
      "cell_type": "code",
      "metadata": {
        "id": "W6H7T-abYbS7",
        "colab_type": "code",
        "colab": {}
      },
      "source": [
        "bigrams = Counter(make_bigrams(a))"
      ],
      "execution_count": 0,
      "outputs": []
    },
    {
      "cell_type": "code",
      "metadata": {
        "id": "1kiap9ctYff5",
        "colab_type": "code",
        "outputId": "1b1625af-0e14-4d7a-e9d1-0e9736c324f6",
        "colab": {
          "base_uri": "https://localhost:8080/",
          "height": 170
        }
      },
      "source": [
        "bigrams.most_common(10)"
      ],
      "execution_count": 0,
      "outputs": [
        {
          "output_type": "execute_result",
          "data": {
            "text/plain": [
              "[(('i', 'am'), 2),\n",
              " (('am', 'sam'), 1),\n",
              " (('sam', 'sam'), 1),\n",
              " (('sam', 'i'), 1),\n",
              " (('am', 'i'), 1),\n",
              " (('i', \"don't\"), 1),\n",
              " ((\"don't\", 'like'), 1),\n",
              " (('like', 'green'), 1),\n",
              " (('green', 'eggs'), 1)]"
            ]
          },
          "metadata": {
            "tags": []
          },
          "execution_count": 22
        }
      ]
    },
    {
      "cell_type": "code",
      "metadata": {
        "id": "HHdbaxDnY4Zu",
        "colab_type": "code",
        "colab": {}
      },
      "source": [
        "def make_trigrams(iterator):\n",
        "    a, b, c = tee(iterator, 3)\n",
        "    next(b)\n",
        "    next(c)\n",
        "    next(c)\n",
        "    return zip(a, b, c)"
      ],
      "execution_count": 0,
      "outputs": []
    },
    {
      "cell_type": "code",
      "metadata": {
        "id": "lf1mMYM8jXae",
        "colab_type": "code",
        "colab": {}
      },
      "source": [
        "trigrams = Counter(make_trigrams(a))"
      ],
      "execution_count": 0,
      "outputs": []
    },
    {
      "cell_type": "code",
      "metadata": {
        "id": "iENBj7APjdpa",
        "colab_type": "code",
        "outputId": "f93cff0e-beaf-44ae-ac26-4099b86b794e",
        "colab": {
          "base_uri": "https://localhost:8080/",
          "height": 170
        }
      },
      "source": [
        "trigrams.most_common(10)"
      ],
      "execution_count": 0,
      "outputs": [
        {
          "output_type": "execute_result",
          "data": {
            "text/plain": [
              "[(('i', 'am', 'sam'), 1),\n",
              " (('am', 'sam', 'sam'), 1),\n",
              " (('sam', 'sam', 'i'), 1),\n",
              " (('sam', 'i', 'am'), 1),\n",
              " (('i', 'am', 'i'), 1),\n",
              " (('am', 'i', \"don't\"), 1),\n",
              " (('i', \"don't\", 'like'), 1),\n",
              " ((\"don't\", 'like', 'green'), 1),\n",
              " (('like', 'green', 'eggs'), 1)]"
            ]
          },
          "metadata": {
            "tags": []
          },
          "execution_count": 25
        }
      ]
    },
    {
      "cell_type": "code",
      "metadata": {
        "id": "baGQFVG-jhOd",
        "colab_type": "code",
        "colab": {}
      },
      "source": [
        "d = defaultdict(Counter)\n",
        "for a, b, c in trigrams:\n",
        "    d[a, b][c] += trigrams[a, b, c]"
      ],
      "execution_count": 0,
      "outputs": []
    },
    {
      "cell_type": "code",
      "metadata": {
        "id": "mFn7bOs-jxaj",
        "colab_type": "code",
        "outputId": "3df49efc-7842-41b4-9f64-4e5a9772c2fa",
        "colab": {
          "base_uri": "https://localhost:8080/",
          "height": 34
        }
      },
      "source": [
        "d[\"don't\",'like']"
      ],
      "execution_count": 0,
      "outputs": [
        {
          "output_type": "execute_result",
          "data": {
            "text/plain": [
              "Counter({'green': 1})"
            ]
          },
          "metadata": {
            "tags": []
          },
          "execution_count": 27
        }
      ]
    },
    {
      "cell_type": "code",
      "metadata": {
        "id": "i5lbk5EPj-aW",
        "colab_type": "code",
        "outputId": "5742ec31-c5f6-41e6-acf9-bd3db2c3ca52",
        "colab": {
          "base_uri": "https://localhost:8080/",
          "height": 34
        }
      },
      "source": [
        "list(d[\"i\", \"am\"].elements())"
      ],
      "execution_count": 0,
      "outputs": [
        {
          "output_type": "execute_result",
          "data": {
            "text/plain": [
              "['sam', 'i']"
            ]
          },
          "metadata": {
            "tags": []
          },
          "execution_count": 29
        }
      ]
    },
    {
      "cell_type": "code",
      "metadata": {
        "id": "0cCc2KW-koW7",
        "colab_type": "code",
        "colab": {}
      },
      "source": [
        "import random\n",
        "\n",
        "def pick(counter):\n",
        "  return random.choice(list(counter.elements()))\n"
      ],
      "execution_count": 0,
      "outputs": []
    },
    {
      "cell_type": "code",
      "metadata": {
        "id": "eaVE8b2MnM0H",
        "colab_type": "code",
        "colab": {}
      },
      "source": [
        "prefix = \"i\",\"am\""
      ],
      "execution_count": 0,
      "outputs": []
    },
    {
      "cell_type": "code",
      "metadata": {
        "id": "ELW8yNZEnRya",
        "colab_type": "code",
        "outputId": "818d62c8-f80b-4e7f-911b-66fffc0c404d",
        "colab": {
          "base_uri": "https://localhost:8080/",
          "height": 392
        }
      },
      "source": [
        "\n",
        "print(\" \".join(prefix), end=' ')\n",
        "for i in range(8):\n",
        "    suffix = pick(d[prefix])\n",
        "    print(suffix, end=' ')\n",
        "    prefix = prefix[1], suffix"
      ],
      "execution_count": 0,
      "outputs": [
        {
          "output_type": "stream",
          "text": [
            "i am i don't like green eggs "
          ],
          "name": "stdout"
        },
        {
          "output_type": "error",
          "ename": "IndexError",
          "evalue": "ignored",
          "traceback": [
            "\u001b[0;31m---------------------------------------------------------------------------\u001b[0m",
            "\u001b[0;31mIndexError\u001b[0m                                Traceback (most recent call last)",
            "\u001b[0;32m<ipython-input-60-9025cb9d66c4>\u001b[0m in \u001b[0;36m<module>\u001b[0;34m()\u001b[0m\n\u001b[1;32m      2\u001b[0m \u001b[0mprint\u001b[0m\u001b[0;34m(\u001b[0m\u001b[0;34m\" \"\u001b[0m\u001b[0;34m.\u001b[0m\u001b[0mjoin\u001b[0m\u001b[0;34m(\u001b[0m\u001b[0mprefix\u001b[0m\u001b[0;34m)\u001b[0m\u001b[0;34m,\u001b[0m \u001b[0mend\u001b[0m\u001b[0;34m=\u001b[0m\u001b[0;34m' '\u001b[0m\u001b[0;34m)\u001b[0m\u001b[0;34m\u001b[0m\u001b[0;34m\u001b[0m\u001b[0m\n\u001b[1;32m      3\u001b[0m \u001b[0;32mfor\u001b[0m \u001b[0mi\u001b[0m \u001b[0;32min\u001b[0m \u001b[0mrange\u001b[0m\u001b[0;34m(\u001b[0m\u001b[0;36m8\u001b[0m\u001b[0;34m)\u001b[0m\u001b[0;34m:\u001b[0m\u001b[0;34m\u001b[0m\u001b[0;34m\u001b[0m\u001b[0m\n\u001b[0;32m----> 4\u001b[0;31m     \u001b[0msuffix\u001b[0m \u001b[0;34m=\u001b[0m \u001b[0mpick\u001b[0m\u001b[0;34m(\u001b[0m\u001b[0md\u001b[0m\u001b[0;34m[\u001b[0m\u001b[0mprefix\u001b[0m\u001b[0;34m]\u001b[0m\u001b[0;34m)\u001b[0m\u001b[0;34m\u001b[0m\u001b[0;34m\u001b[0m\u001b[0m\n\u001b[0m\u001b[1;32m      5\u001b[0m     \u001b[0mprint\u001b[0m\u001b[0;34m(\u001b[0m\u001b[0msuffix\u001b[0m\u001b[0;34m,\u001b[0m \u001b[0mend\u001b[0m\u001b[0;34m=\u001b[0m\u001b[0;34m' '\u001b[0m\u001b[0;34m)\u001b[0m\u001b[0;34m\u001b[0m\u001b[0;34m\u001b[0m\u001b[0m\n\u001b[1;32m      6\u001b[0m     \u001b[0mprefix\u001b[0m \u001b[0;34m=\u001b[0m \u001b[0mprefix\u001b[0m\u001b[0;34m[\u001b[0m\u001b[0;36m1\u001b[0m\u001b[0;34m]\u001b[0m\u001b[0;34m,\u001b[0m \u001b[0msuffix\u001b[0m\u001b[0;34m\u001b[0m\u001b[0;34m\u001b[0m\u001b[0m\n",
            "\u001b[0;32m<ipython-input-58-a1491013aae3>\u001b[0m in \u001b[0;36mpick\u001b[0;34m(counter)\u001b[0m\n\u001b[1;32m      2\u001b[0m \u001b[0;34m\u001b[0m\u001b[0m\n\u001b[1;32m      3\u001b[0m \u001b[0;32mdef\u001b[0m \u001b[0mpick\u001b[0m\u001b[0;34m(\u001b[0m\u001b[0mcounter\u001b[0m\u001b[0;34m)\u001b[0m\u001b[0;34m:\u001b[0m\u001b[0;34m\u001b[0m\u001b[0;34m\u001b[0m\u001b[0m\n\u001b[0;32m----> 4\u001b[0;31m   \u001b[0;32mreturn\u001b[0m \u001b[0mrandom\u001b[0m\u001b[0;34m.\u001b[0m\u001b[0mchoice\u001b[0m\u001b[0;34m(\u001b[0m\u001b[0mlist\u001b[0m\u001b[0;34m(\u001b[0m\u001b[0mcounter\u001b[0m\u001b[0;34m.\u001b[0m\u001b[0melements\u001b[0m\u001b[0;34m(\u001b[0m\u001b[0;34m)\u001b[0m\u001b[0;34m)\u001b[0m\u001b[0;34m)\u001b[0m\u001b[0;34m\u001b[0m\u001b[0;34m\u001b[0m\u001b[0m\n\u001b[0m",
            "\u001b[0;32m/usr/lib/python3.6/random.py\u001b[0m in \u001b[0;36mchoice\u001b[0;34m(self, seq)\u001b[0m\n\u001b[1;32m    258\u001b[0m             \u001b[0mi\u001b[0m \u001b[0;34m=\u001b[0m \u001b[0mself\u001b[0m\u001b[0;34m.\u001b[0m\u001b[0m_randbelow\u001b[0m\u001b[0;34m(\u001b[0m\u001b[0mlen\u001b[0m\u001b[0;34m(\u001b[0m\u001b[0mseq\u001b[0m\u001b[0;34m)\u001b[0m\u001b[0;34m)\u001b[0m\u001b[0;34m\u001b[0m\u001b[0;34m\u001b[0m\u001b[0m\n\u001b[1;32m    259\u001b[0m         \u001b[0;32mexcept\u001b[0m \u001b[0mValueError\u001b[0m\u001b[0;34m:\u001b[0m\u001b[0;34m\u001b[0m\u001b[0;34m\u001b[0m\u001b[0m\n\u001b[0;32m--> 260\u001b[0;31m             \u001b[0;32mraise\u001b[0m \u001b[0mIndexError\u001b[0m\u001b[0;34m(\u001b[0m\u001b[0;34m'Cannot choose from an empty sequence'\u001b[0m\u001b[0;34m)\u001b[0m \u001b[0;32mfrom\u001b[0m \u001b[0;32mNone\u001b[0m\u001b[0;34m\u001b[0m\u001b[0;34m\u001b[0m\u001b[0m\n\u001b[0m\u001b[1;32m    261\u001b[0m         \u001b[0;32mreturn\u001b[0m \u001b[0mseq\u001b[0m\u001b[0;34m[\u001b[0m\u001b[0mi\u001b[0m\u001b[0;34m]\u001b[0m\u001b[0;34m\u001b[0m\u001b[0;34m\u001b[0m\u001b[0m\n\u001b[1;32m    262\u001b[0m \u001b[0;34m\u001b[0m\u001b[0m\n",
            "\u001b[0;31mIndexError\u001b[0m: Cannot choose from an empty sequence"
          ]
        }
      ]
    },
    {
      "cell_type": "code",
      "metadata": {
        "id": "Gynt1_6Sn3Vw",
        "colab_type": "code",
        "colab": {}
      },
      "source": [
        ""
      ],
      "execution_count": 0,
      "outputs": []
    }
  ]
}